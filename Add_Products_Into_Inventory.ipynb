{
  "nbformat": 4,
  "nbformat_minor": 0,
  "metadata": {
    "colab": {
      "name": "Purchase_Products.ipynb",
      "provenance": [],
      "collapsed_sections": []
    },
    "kernelspec": {
      "name": "python3",
      "display_name": "Python 3"
    },
    "language_info": {
      "name": "python"
    }
  },
  "cells": [
    {
      "cell_type": "code",
      "metadata": {
        "id": "cGKiILX25Gt-",
        "colab": {
          "base_uri": "https://localhost:8080/"
        },
        "outputId": "b8fd92ea-6d7e-426c-ca21-cf635e434c97"
      },
      "source": [
        "import json\n",
        "\n",
        "fd=open(\"record.json\",'r')\n",
        "r=fd.read()\n",
        "fd.close()\n",
        "\n",
        "record=json.loads(r)\n",
        "\n",
        "record\n"
      ],
      "execution_count": 12,
      "outputs": [
        {
          "output_type": "execute_result",
          "data": {
            "text/plain": [
              "{'1001': {'Mfg.date': '5-20',\n",
              "  'company_name': 'britania',\n",
              "  'name': 'Choco Cake',\n",
              "  'pr': 100,\n",
              "  'qn': 34},\n",
              " '1002': {'Mfg.date': '1-21',\n",
              "  'company_name': 'Amul',\n",
              "  'name': 'Milk Cake',\n",
              "  'pr': 800,\n",
              "  'qn': 100},\n",
              " '1003': {'Mfg.date': '8-20',\n",
              "  'company_name': 'Kingfisher',\n",
              "  'name': 'Drink',\n",
              "  'pr': 85,\n",
              "  'qn': 100},\n",
              " '1004': {'Mfg.date': '9-20',\n",
              "  'company_name': 'Sweety',\n",
              "  'name': 'Candy',\n",
              "  'pr': 5,\n",
              "  'qn': 1000},\n",
              " '1005': {'Mfg.date': '8-21',\n",
              "  'company_name': 'BallPen',\n",
              "  'name': 'Pen',\n",
              "  'pr': 20,\n",
              "  'qn': 100},\n",
              " '1006': {'Mfg.date': '2-21',\n",
              "  'company_name': 'Oppo',\n",
              "  'name': 'Phone',\n",
              "  'pr': 50000,\n",
              "  'qn': 10},\n",
              " '1007': {'Mfg.date': '3-21',\n",
              "  'company_name': 'Voice',\n",
              "  'name': 'Mic',\n",
              "  'pr': 1500,\n",
              "  'qn': 2},\n",
              " '1008': {'Mfg.date': '7-20',\n",
              "  'company_name': 'IndiaCase',\n",
              "  'name': 'Case',\n",
              "  'pr': 599,\n",
              "  'qn': 5},\n",
              " '1009': {'Mfg.date': '5-20',\n",
              "  'company_name': 'Lenovo',\n",
              "  'name': 'Keyboard',\n",
              "  'pr': 1999,\n",
              "  'qn': 15},\n",
              " '1010': {'Mfg.date': '9-20',\n",
              "  'company_name': 'Apple',\n",
              "  'name': 'Mouse',\n",
              "  'pr': 540,\n",
              "  'qn': 20},\n",
              " '1011': {'Mfg.date': '10-20',\n",
              "  'company_name': 'India Suno',\n",
              "  'name': 'Speaker',\n",
              "  'pr': 760,\n",
              "  'qn': 5},\n",
              " '1012': {'Mfg.date': '12-20',\n",
              "  'company_name': 'D Link',\n",
              "  'name': 'PenDrive',\n",
              "  'pr': 190,\n",
              "  'qn': 50},\n",
              " '1013': {'Mfg.date': '1-21',\n",
              "  'company_name': 'Tata',\n",
              "  'name': 'LED',\n",
              "  'pr': 7000,\n",
              "  'qn': 50},\n",
              " '1014': {'Mfg.date': '4-20',\n",
              "  'company_name': 'Bamboo',\n",
              "  'name': 'Wooden spoon',\n",
              "  'pr': 50,\n",
              "  'qn': 25},\n",
              " '1015': {'Mfg.date': '3-20',\n",
              "  'company_name': 'FastBlender',\n",
              "  'name': 'Blender',\n",
              "  'pr': 20,\n",
              "  'qn': 7},\n",
              " '1016': {'Mfg.date': '1-21',\n",
              "  'company_name': 'Cutter',\n",
              "  'name': 'Knife',\n",
              "  'pr': 70,\n",
              "  'qn': 30},\n",
              " '1017': {'Mfg.date': '1-21',\n",
              "  'company_name': 'Fast Cooker',\n",
              "  'name': 'Frying pan',\n",
              "  'pr': 300,\n",
              "  'qn': 4},\n",
              " '1018': {'Mfg.date': '2-20',\n",
              "  'company_name': 'OEM',\n",
              "  'name': 'Measuring Cup',\n",
              "  'pr': 20,\n",
              "  'qn': 15},\n",
              " '1019': {'Mfg.date': '1-21',\n",
              "  'company_name': 'Plato',\n",
              "  'name': 'Oven Glove',\n",
              "  'pr': 25,\n",
              "  'qn': 80},\n",
              " '1020': {'Mfg.date': '1-21',\n",
              "  'company_name': 'Plato',\n",
              "  'name': 'Mixing Bowl',\n",
              "  'pr': 35,\n",
              "  'qn': 27},\n",
              " '1021': {'Mfg.date': '9-20',\n",
              "  'company_name': 'Cotton candy',\n",
              "  'name': 'T-shirt',\n",
              "  'pr': 350,\n",
              "  'qn': 38},\n",
              " '1022': {'Mfg.date': '1-21',\n",
              "  'company_name': 'Mastani',\n",
              "  'name': 'Sweater',\n",
              "  'pr': 790,\n",
              "  'qn': 20},\n",
              " '1023': {'Mfg.date': '8-20',\n",
              "  'company_name': 'Tiger',\n",
              "  'name': 'Coat',\n",
              "  'pr': 550,\n",
              "  'qn': 32},\n",
              " '1024': {'Mfg.date': '1-21',\n",
              "  'company_name': 'Essa',\n",
              "  'name': 'Jacket',\n",
              "  'pr': 990,\n",
              "  'qn': 10},\n",
              " '1025': {'Mfg.date': '1-21',\n",
              "  'company_name': 'Plazoo',\n",
              "  'name': 'Shorts',\n",
              "  'pr': 765,\n",
              "  'qn': 35},\n",
              " '1026': {'Mfg.date': '9-20',\n",
              "  'company_name': 'Plazoo',\n",
              "  'name': 'Socks',\n",
              "  'pr': 70,\n",
              "  'qn': 80},\n",
              " '1027': {'Mfg.date': '1-21',\n",
              "  'company_name': 'Nike',\n",
              "  'name': 'Shoe',\n",
              "  'pr': 950,\n",
              "  'qn': 28},\n",
              " '1028': {'Mfg.date': '1-21',\n",
              "  'company_name': 'Nike',\n",
              "  'name': 'tracksult',\n",
              "  'pr': 350,\n",
              "  'qn': 15},\n",
              " '1029': {'Mfg.date': '5-20',\n",
              "  'company_name': 'Tata',\n",
              "  'name': 'Motor',\n",
              "  'pr': 1500,\n",
              "  'qn': 56},\n",
              " '1030': {'Mfg.date': '1-21',\n",
              "  'company_name': 'Tata',\n",
              "  'name': 'Holder',\n",
              "  'pr': 230,\n",
              "  'qn': 12},\n",
              " '1031': {'Mfg.date': '1-21',\n",
              "  'company_name': 'Ponds',\n",
              "  'name': 'Powder',\n",
              "  'pr': 340,\n",
              "  'qn': 25},\n",
              " '1032': {'Mfg.date': '11-20',\n",
              "  'company_name': 'BMW Drum',\n",
              "  'name': 'Drum',\n",
              "  'pr': 1100,\n",
              "  'qn': 5},\n",
              " '1033': {'Mfg.date': '7-21',\n",
              "  'company_name': 'Classmates',\n",
              "  'name': 'Notebook',\n",
              "  'pr': 50,\n",
              "  'qn': 12},\n",
              " '1034': {'Mfg.date': '2-21',\n",
              "  'company_name': 'Nirma',\n",
              "  'name': 'Washing Powder',\n",
              "  'pr': 50,\n",
              "  'qn': 25},\n",
              " '1035': {'Mfg.date': '1-20',\n",
              "  'company_name': 'Usha',\n",
              "  'name': 'fan',\n",
              "  'pr': 2500,\n",
              "  'qn': 5}}"
            ]
          },
          "metadata": {},
          "execution_count": 12
        }
      ]
    },
    {
      "cell_type": "code",
      "metadata": {
        "colab": {
          "base_uri": "https://localhost:8080/"
        },
        "id": "gOsfNLYv5Iwu",
        "outputId": "4149f35d-730f-473d-8ec6-b36cbec1bc32"
      },
      "source": [
        "no=int(input(\"How many numbers of new products want to add in inventory management system\\n\"))\n",
        "\n",
        "for i in range(1,no+1):\n",
        "  prod_id=str(input(\"Enter product id : \"))\n",
        "  name=str(input(\"Enter a name : \"))\n",
        "  pr=int(input(\"Enter a price : \"))\n",
        "  qn=int(input(\"Enter a quantity : \"))\n",
        "  com_name=str(input(\"Enter a company name : \"))\n",
        "  mfg_date=str(input(\"Enter a manufacturing date : \")) \n",
        "\n",
        "\n",
        "  record[prod_id]={'name': name, 'pr': pr,'qn': qn, 'Mfg.date': mfg_date, 'company_name': com_name}\n",
        "  print(\"New Product is added in inventory\\n\")\n"
      ],
      "execution_count": 4,
      "outputs": [
        {
          "output_type": "stream",
          "name": "stdout",
          "text": [
            "How many numbers of new products want to add in inventory management system\n",
            "2\n",
            "Enter product id : 1034\n",
            "Enter a name : Washing Powder\n",
            "Enter a price : 50\n",
            "Enter a quantity : 25\n",
            "Enter a company name : Nirma\n",
            "Enter a manufacturing date : 2-21\n",
            "New Product is added in inventory\n",
            "\n",
            "Enter product id : 1035\n",
            "Enter a name : fan\n",
            "Enter a price : 2500\n",
            "Enter a quantity : 5\n",
            "Enter a company name : Usha\n",
            "Enter a manufacturing date : 1-20\n",
            "New Product is added in inventory\n",
            "\n"
          ]
        }
      ]
    },
    {
      "cell_type": "code",
      "metadata": {
        "colab": {
          "base_uri": "https://localhost:8080/"
        },
        "id": "YAi5k7X87YGv",
        "outputId": "3ff371e1-bf5f-47e5-9a4a-7a8edaef8d57"
      },
      "source": [
        "js=json.dumps(record)\n",
        "fd=open(\"record.json\",'w')\n",
        "fd.write(js)\n",
        "\n",
        "fd.close()\n",
        "\n",
        "print(\"Successfully Updated inventory managment system\")"
      ],
      "execution_count": 5,
      "outputs": [
        {
          "output_type": "stream",
          "name": "stdout",
          "text": [
            "Successfully Updated inventory managment system\n"
          ]
        }
      ]
    },
    {
      "cell_type": "code",
      "metadata": {
        "colab": {
          "base_uri": "https://localhost:8080/"
        },
        "id": "UtkNU6kR89Kk",
        "outputId": "edceb3b8-3f5d-4a14-c62c-d71a51498c5d"
      },
      "source": [
        "no = int(input(\"Enter number of products for purchasing more quantity : \"))\n",
        "\n",
        "for j in range(1,no+1):\n",
        "   ui_prod=str(input(\"Enter a product id : \"))\n",
        "   ui_quant=int(input(\"Enter a quantity you want to purachse : \"))\n",
        "\n",
        "   print(\"product: \",record[ui_prod]['name'])\n",
        "   print(\"price :\",record[ui_prod]['pr'])\n",
        "\n",
        "   record[ui_prod]['qn']=record[ui_prod]['qn'] + ui_quant\n",
        "   print(\"Quantity Number Successfully updated in inventory managment system\")\n",
        "\n"
      ],
      "execution_count": 11,
      "outputs": [
        {
          "output_type": "stream",
          "name": "stdout",
          "text": [
            "Enter number of products for purchasing more quantity : 2\n",
            "Enter a product id : 1015\n",
            "Enter a quantity you want to purachse : 5\n",
            "product:  Blender\n",
            "price : 20\n",
            "Quantity Number Successfully updated in inventory managment system\n",
            "Enter a product id : 1030\n",
            "Enter a quantity you want to purachse : 10\n",
            "product:  Holder\n",
            "price : 230\n",
            "Quantity Number Successfully updated in inventory managment system\n"
          ]
        }
      ]
    },
    {
      "cell_type": "code",
      "metadata": {
        "id": "RWnPsXg_i8_W"
      },
      "source": [
        "js=json.dumps(record)\n",
        "\n",
        "fd=open(\"record.json\",'w')\n",
        "fd.write(js)\n",
        "fd.close()"
      ],
      "execution_count": 13,
      "outputs": []
    }
  ]
}